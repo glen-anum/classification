{
 "cells": [
  {
   "cell_type": "code",
   "execution_count": 1,
   "metadata": {},
   "outputs": [],
   "source": [
    "#Importing Library\n",
    "import pandas as pd\n",
    "from sklearn.preprocessing import StandardScaler, LabelEncoder\n",
    "from sklearn.model_selection import train_test_split\n",
    "from collections import Counter\n",
    "from sklearn.compose import ColumnTransformer\n",
    "from tensorflow.keras.models import Sequential\n",
    "from tensorflow.keras.layers import Dense, InputLayer\n",
    "from sklearn.metrics import classification_report\n",
    "from tensorflow.keras.utils import to_categorical\n",
    "import numpy as np"
   ]
  },
  {
   "cell_type": "code",
   "execution_count": 3,
   "metadata": {},
   "outputs": [],
   "source": [
    "#Using pandas.read_csv(), load the data from heart_failure.csv to a pandas DataFrame object. \n",
    "data=pd.read_csv('heart_failure.csv')\n"
   ]
  },
  {
   "cell_type": "code",
   "execution_count": 6,
   "metadata": {},
   "outputs": [
    {
     "name": "stdout",
     "output_type": "stream",
     "text": [
      "<class 'pandas.core.frame.DataFrame'>\n",
      "RangeIndex: 299 entries, 0 to 298\n",
      "Data columns (total 13 columns):\n",
      " #   Column                    Non-Null Count  Dtype  \n",
      "---  ------                    --------------  -----  \n",
      " 0   age                       299 non-null    float64\n",
      " 1   anaemia                   299 non-null    int64  \n",
      " 2   creatinine_phosphokinase  299 non-null    int64  \n",
      " 3   diabetes                  299 non-null    int64  \n",
      " 4   ejection_fraction         299 non-null    int64  \n",
      " 5   high_blood_pressure       299 non-null    int64  \n",
      " 6   platelets                 299 non-null    float64\n",
      " 7   serum_creatinine          299 non-null    float64\n",
      " 8   serum_sodium              299 non-null    int64  \n",
      " 9   sex                       299 non-null    int64  \n",
      " 10  smoking                   299 non-null    int64  \n",
      " 11  time                      299 non-null    int64  \n",
      " 12  DEATH_EVENT               299 non-null    int64  \n",
      "dtypes: float64(3), int64(10)\n",
      "memory usage: 30.5 KB\n",
      "None\n"
     ]
    }
   ],
   "source": [
    "#Use the DataFrame.info() method to print all the columns and their types of the DataFrame instance data.\n",
    "print(data.info())"
   ]
  },
  {
   "cell_type": "code",
   "execution_count": 8,
   "metadata": {},
   "outputs": [
    {
     "name": "stdout",
     "output_type": "stream",
     "text": [
      "Counter({0: 203, 1: 96})\n"
     ]
    }
   ],
   "source": [
    "#Print the distribution of the death_event column in the data DataFrame class using collections.Counter. This is the column you will need to predict.\n",
    "print(Counter(data['DEATH_EVENT']))"
   ]
  },
  {
   "cell_type": "code",
   "execution_count": 10,
   "metadata": {},
   "outputs": [],
   "source": [
    "#Extract the label column death_event from the data DataFrame and assign the result to a variable \n",
    "y = data['DEATH_EVENT']"
   ]
  },
  {
   "cell_type": "markdown",
   "metadata": {},
   "source": [
    "columns ['age','anaemia','creatinine_phosphokinase','diabetes','ejection_fraction','high_blood_pressure','platelets','serum_creatinine','serum_sodium','sex','smoking','time'] from the DataFrame instance data and assign the result to a variable \n"
   ]
  },
  {
   "cell_type": "code",
   "execution_count": 15,
   "metadata": {},
   "outputs": [],
   "source": [
    "x = data[['age','anaemia','creatinine_phosphokinase','diabetes','ejection_fraction','high_blood_pressure','platelets','serum_creatinine','serum_sodium','sex','smoking','time']]"
   ]
  },
  {
   "cell_type": "markdown",
   "metadata": {},
   "source": [
    "Use the pandas.get_dummies() function to convert the categorical features in the DataFrame instance x to one-hot encoding vectors and assign the result back to variable x\n"
   ]
  },
  {
   "cell_type": "code",
   "execution_count": 17,
   "metadata": {},
   "outputs": [],
   "source": [
    "x = pd.get_dummies(x)"
   ]
  },
  {
   "cell_type": "markdown",
   "metadata": {},
   "source": [
    "Use the sklearn.model_selection.train_test_split() method to split the data into training features, test features, training labels, and test labels, respectively. To the test_size parameter assign the percentage of data you wish to put in the test data, and use any value for the random_state parameter. Store the results of the function to X_train, X_test, Y_train, Y_test variables, making sure you use this order."
   ]
  },
  {
   "cell_type": "code",
   "execution_count": 18,
   "metadata": {},
   "outputs": [],
   "source": [
    "X_train,X_test,Y_train,Y_test = train_test_split(x,y,test_size = 0.25,random_state = 42)"
   ]
  },
  {
   "cell_type": "markdown",
   "metadata": {},
   "source": [
    "Initialize a ColumnTransformer object by using StandardScaler to scale the numeric features in the dataset: ['age','creatinine_phosphokinase','ejection_fraction','platelets','serum_creatinine','serum_sodium','time']. Assign the resulting object to a variable "
   ]
  },
  {
   "cell_type": "code",
   "execution_count": 19,
   "metadata": {},
   "outputs": [],
   "source": [
    "ct = ColumnTransformer([('numeric',StandardScaler(),['age','creatinine_phosphokinase','ejection_fraction','platelets','serum_creatinine','serum_sodium','time'] )])"
   ]
  },
  {
   "cell_type": "code",
   "execution_count": 20,
   "metadata": {},
   "outputs": [],
   "source": [
    "#Use the ColumnTransformer.fit_transform() function to train the scaler instance ct on the training data X_train and assign the result back to X_train.\n",
    "X_train = ct.fit_transform(X_train)"
   ]
  },
  {
   "cell_type": "code",
   "execution_count": 21,
   "metadata": {},
   "outputs": [],
   "source": [
    "#Use the ColumnTransformer.transform() to scale the test data instance X_test using the trained scaler ct, and assign the result back to X_test.\n",
    "X_test = ct.transform(X_test)"
   ]
  },
  {
   "cell_type": "code",
   "execution_count": 22,
   "metadata": {},
   "outputs": [],
   "source": [
    "#Initialize an instance of LabelEncoder and assign it to a variable \n",
    "le = LabelEncoder()"
   ]
  },
  {
   "cell_type": "markdown",
   "metadata": {},
   "source": [
    "Using the LabelEncoder.fit_transform() function, fit the encoder instance le to the training labels Y_train"
   ]
  },
  {
   "cell_type": "code",
   "execution_count": 23,
   "metadata": {},
   "outputs": [],
   "source": [
    "Y_train = le.fit_transform(Y_train.astype(str))"
   ]
  },
  {
   "cell_type": "code",
   "execution_count": 24,
   "metadata": {},
   "outputs": [],
   "source": [
    "#Using the LabelEncoder.transform() function, encode the test labels Y_test using the trained encoder le\n",
    "Y_test = le.fit_transform(Y_test.astype(str))"
   ]
  },
  {
   "cell_type": "markdown",
   "metadata": {},
   "source": [
    "Using the tensorflow.keras.utils.to_categorical() function, transform the encoded training labels Y_train into a binary vector and assign the result back to Y_train"
   ]
  },
  {
   "cell_type": "code",
   "execution_count": 25,
   "metadata": {},
   "outputs": [],
   "source": [
    "Y_train = to_categorical(Y_train)"
   ]
  },
  {
   "cell_type": "markdown",
   "metadata": {},
   "source": [
    "Using the tensorflow.keras.utils.to_categorical() function, transform the encoded test labels Y_test into a binary vector and assign the result back to Y_test."
   ]
  },
  {
   "cell_type": "code",
   "execution_count": 26,
   "metadata": {},
   "outputs": [],
   "source": [
    "Y_test = to_categorical(Y_test)"
   ]
  },
  {
   "cell_type": "code",
   "execution_count": 27,
   "metadata": {},
   "outputs": [],
   "source": [
    "#Initialize a tensorflow.keras.models.Sequential model instance\n",
    "model = Sequential()"
   ]
  },
  {
   "cell_type": "markdown",
   "metadata": {},
   "source": [
    "Create an input layer instance of tensorflow.keras.layers.InputLayer and add it to the model instance model using the Model.add() function"
   ]
  },
  {
   "cell_type": "code",
   "execution_count": 28,
   "metadata": {},
   "outputs": [],
   "source": [
    "model.add(InputLayer(input_shape=(X_train.shape[1],)))"
   ]
  },
  {
   "cell_type": "markdown",
   "metadata": {},
   "source": [
    "Create a hidden layer instance of tensorflow.keras.layers.Dense with relu activation function and 12 hidden neurons, and add it to the model instance model."
   ]
  },
  {
   "cell_type": "code",
   "execution_count": 29,
   "metadata": {},
   "outputs": [],
   "source": [
    "model.add(Dense(12,activation='relu'))"
   ]
  },
  {
   "cell_type": "markdown",
   "metadata": {},
   "source": [
    "Create an output layer instance of tensorflow.keras.layers.Dense with a softmax activation function (because of classification)."
   ]
  },
  {
   "cell_type": "code",
   "execution_count": 30,
   "metadata": {},
   "outputs": [],
   "source": [
    "model.add(Dense(2, activation='softmax'))"
   ]
  },
  {
   "cell_type": "markdown",
   "metadata": {},
   "source": [
    "Using the Model.compile() function, compile the model instance model using the categorical_crossentropy loss, adam optimizer and accuracy as metrics."
   ]
  },
  {
   "cell_type": "code",
   "execution_count": 31,
   "metadata": {},
   "outputs": [],
   "source": [
    "model.compile(loss='categorical_crossentropy',optimizer='adam', metrics=['accuracy'])"
   ]
  },
  {
   "cell_type": "code",
   "execution_count": 32,
   "metadata": {},
   "outputs": [
    {
     "name": "stdout",
     "output_type": "stream",
     "text": [
      "Epoch 1/100\n",
      "38/38 [==============================] - 0s 663us/step - loss: 0.7479 - accuracy: 0.5357\n",
      "Epoch 2/100\n",
      "38/38 [==============================] - 0s 658us/step - loss: 0.6580 - accuracy: 0.6339\n",
      "Epoch 3/100\n",
      "38/38 [==============================] - 0s 643us/step - loss: 0.5990 - accuracy: 0.6786\n",
      "Epoch 4/100\n",
      "38/38 [==============================] - 0s 674us/step - loss: 0.5553 - accuracy: 0.7188\n",
      "Epoch 5/100\n",
      "38/38 [==============================] - 0s 624us/step - loss: 0.5232 - accuracy: 0.7455\n",
      "Epoch 6/100\n",
      "38/38 [==============================] - 0s 594us/step - loss: 0.4974 - accuracy: 0.7679\n",
      "Epoch 7/100\n",
      "38/38 [==============================] - 0s 545us/step - loss: 0.4755 - accuracy: 0.7812\n",
      "Epoch 8/100\n",
      "38/38 [==============================] - 0s 584us/step - loss: 0.4561 - accuracy: 0.7902\n",
      "Epoch 9/100\n",
      "38/38 [==============================] - 0s 601us/step - loss: 0.4418 - accuracy: 0.7946\n",
      "Epoch 10/100\n",
      "38/38 [==============================] - 0s 629us/step - loss: 0.4288 - accuracy: 0.7946\n",
      "Epoch 11/100\n",
      "38/38 [==============================] - 0s 574us/step - loss: 0.4190 - accuracy: 0.8080\n",
      "Epoch 12/100\n",
      "38/38 [==============================] - 0s 577us/step - loss: 0.4086 - accuracy: 0.8080\n",
      "Epoch 13/100\n",
      "38/38 [==============================] - 0s 538us/step - loss: 0.3982 - accuracy: 0.8304\n",
      "Epoch 14/100\n",
      "38/38 [==============================] - 0s 578us/step - loss: 0.3907 - accuracy: 0.8393\n",
      "Epoch 15/100\n",
      "38/38 [==============================] - 0s 634us/step - loss: 0.3832 - accuracy: 0.8393\n",
      "Epoch 16/100\n",
      "38/38 [==============================] - 0s 559us/step - loss: 0.3748 - accuracy: 0.8393\n",
      "Epoch 17/100\n",
      "38/38 [==============================] - 0s 605us/step - loss: 0.3688 - accuracy: 0.8438\n",
      "Epoch 18/100\n",
      "38/38 [==============================] - 0s 596us/step - loss: 0.3625 - accuracy: 0.8571\n",
      "Epoch 19/100\n",
      "38/38 [==============================] - 0s 606us/step - loss: 0.3562 - accuracy: 0.8527\n",
      "Epoch 20/100\n",
      "38/38 [==============================] - 0s 573us/step - loss: 0.3502 - accuracy: 0.8527\n",
      "Epoch 21/100\n",
      "38/38 [==============================] - 0s 534us/step - loss: 0.3448 - accuracy: 0.8527\n",
      "Epoch 22/100\n",
      "38/38 [==============================] - 0s 537us/step - loss: 0.3408 - accuracy: 0.8571\n",
      "Epoch 23/100\n",
      "38/38 [==============================] - 0s 551us/step - loss: 0.3368 - accuracy: 0.8527\n",
      "Epoch 24/100\n",
      "38/38 [==============================] - 0s 525us/step - loss: 0.3322 - accuracy: 0.8661\n",
      "Epoch 25/100\n",
      "38/38 [==============================] - 0s 446us/step - loss: 0.3291 - accuracy: 0.8616\n",
      "Epoch 26/100\n",
      "38/38 [==============================] - 0s 577us/step - loss: 0.3264 - accuracy: 0.8661\n",
      "Epoch 27/100\n",
      "38/38 [==============================] - 0s 510us/step - loss: 0.3225 - accuracy: 0.8750\n",
      "Epoch 28/100\n",
      "38/38 [==============================] - 0s 528us/step - loss: 0.3206 - accuracy: 0.8661\n",
      "Epoch 29/100\n",
      "38/38 [==============================] - 0s 579us/step - loss: 0.3181 - accuracy: 0.8616\n",
      "Epoch 30/100\n",
      "38/38 [==============================] - 0s 744us/step - loss: 0.3148 - accuracy: 0.8705\n",
      "Epoch 31/100\n",
      "38/38 [==============================] - 0s 709us/step - loss: 0.3123 - accuracy: 0.8705\n",
      "Epoch 32/100\n",
      "38/38 [==============================] - 0s 551us/step - loss: 0.3107 - accuracy: 0.8705\n",
      "Epoch 33/100\n",
      "38/38 [==============================] - 0s 596us/step - loss: 0.3084 - accuracy: 0.8705\n",
      "Epoch 34/100\n",
      "38/38 [==============================] - 0s 551us/step - loss: 0.3060 - accuracy: 0.8705\n",
      "Epoch 35/100\n",
      "38/38 [==============================] - 0s 499us/step - loss: 0.3044 - accuracy: 0.8705\n",
      "Epoch 36/100\n",
      "38/38 [==============================] - 0s 499us/step - loss: 0.3018 - accuracy: 0.8705\n",
      "Epoch 37/100\n",
      "38/38 [==============================] - 0s 577us/step - loss: 0.2989 - accuracy: 0.8705\n",
      "Epoch 38/100\n",
      "38/38 [==============================] - 0s 554us/step - loss: 0.2988 - accuracy: 0.8661\n",
      "Epoch 39/100\n",
      "38/38 [==============================] - 0s 513us/step - loss: 0.2954 - accuracy: 0.8705\n",
      "Epoch 40/100\n",
      "38/38 [==============================] - 0s 551us/step - loss: 0.2940 - accuracy: 0.8705\n",
      "Epoch 41/100\n",
      "38/38 [==============================] - 0s 525us/step - loss: 0.2938 - accuracy: 0.8705\n",
      "Epoch 42/100\n",
      "38/38 [==============================] - 0s 535us/step - loss: 0.2915 - accuracy: 0.8705\n",
      "Epoch 43/100\n",
      "38/38 [==============================] - 0s 549us/step - loss: 0.2895 - accuracy: 0.8705\n",
      "Epoch 44/100\n",
      "38/38 [==============================] - 0s 527us/step - loss: 0.2897 - accuracy: 0.8750\n",
      "Epoch 45/100\n",
      "38/38 [==============================] - 0s 551us/step - loss: 0.2883 - accuracy: 0.8795\n",
      "Epoch 46/100\n",
      "38/38 [==============================] - 0s 550us/step - loss: 0.2853 - accuracy: 0.8750\n",
      "Epoch 47/100\n",
      "38/38 [==============================] - 0s 499us/step - loss: 0.2841 - accuracy: 0.8750\n",
      "Epoch 48/100\n",
      "38/38 [==============================] - 0s 499us/step - loss: 0.2823 - accuracy: 0.8750\n",
      "Epoch 49/100\n",
      "38/38 [==============================] - 0s 557us/step - loss: 0.2823 - accuracy: 0.8750\n",
      "Epoch 50/100\n",
      "38/38 [==============================] - 0s 525us/step - loss: 0.2802 - accuracy: 0.8750\n",
      "Epoch 51/100\n",
      "38/38 [==============================] - 0s 604us/step - loss: 0.2790 - accuracy: 0.8795\n",
      "Epoch 52/100\n",
      "38/38 [==============================] - 0s 525us/step - loss: 0.2797 - accuracy: 0.8705\n",
      "Epoch 53/100\n",
      "38/38 [==============================] - 0s 554us/step - loss: 0.2767 - accuracy: 0.8795\n",
      "Epoch 54/100\n",
      "38/38 [==============================] - 0s 525us/step - loss: 0.2753 - accuracy: 0.8750\n",
      "Epoch 55/100\n",
      "38/38 [==============================] - 0s 551us/step - loss: 0.2739 - accuracy: 0.8795\n",
      "Epoch 56/100\n",
      "38/38 [==============================] - 0s 499us/step - loss: 0.2725 - accuracy: 0.8795\n",
      "Epoch 57/100\n",
      "38/38 [==============================] - 0s 499us/step - loss: 0.2717 - accuracy: 0.8795\n",
      "Epoch 58/100\n",
      "38/38 [==============================] - 0s 499us/step - loss: 0.2710 - accuracy: 0.8795\n",
      "Epoch 59/100\n",
      "38/38 [==============================] - 0s 586us/step - loss: 0.2681 - accuracy: 0.8884\n",
      "Epoch 60/100\n",
      "38/38 [==============================] - 0s 499us/step - loss: 0.2682 - accuracy: 0.8839\n",
      "Epoch 61/100\n",
      "38/38 [==============================] - 0s 577us/step - loss: 0.2666 - accuracy: 0.8884\n",
      "Epoch 62/100\n",
      "38/38 [==============================] - 0s 552us/step - loss: 0.2653 - accuracy: 0.8839\n",
      "Epoch 63/100\n",
      "38/38 [==============================] - 0s 577us/step - loss: 0.2638 - accuracy: 0.8884\n",
      "Epoch 64/100\n",
      "38/38 [==============================] - 0s 507us/step - loss: 0.2639 - accuracy: 0.8705\n",
      "Epoch 65/100\n",
      "38/38 [==============================] - 0s 551us/step - loss: 0.2620 - accuracy: 0.8795\n",
      "Epoch 66/100\n",
      "38/38 [==============================] - 0s 551us/step - loss: 0.2609 - accuracy: 0.8839\n",
      "Epoch 67/100\n",
      "38/38 [==============================] - 0s 551us/step - loss: 0.2593 - accuracy: 0.8839\n",
      "Epoch 68/100\n",
      "38/38 [==============================] - 0s 551us/step - loss: 0.2594 - accuracy: 0.8839\n",
      "Epoch 69/100\n",
      "38/38 [==============================] - 0s 524us/step - loss: 0.2587 - accuracy: 0.8839\n",
      "Epoch 70/100\n",
      "38/38 [==============================] - 0s 524us/step - loss: 0.2562 - accuracy: 0.8884\n",
      "Epoch 71/100\n",
      "38/38 [==============================] - 0s 499us/step - loss: 0.2546 - accuracy: 0.8839\n",
      "Epoch 72/100\n",
      "38/38 [==============================] - 0s 526us/step - loss: 0.2532 - accuracy: 0.8795\n",
      "Epoch 73/100\n",
      "38/38 [==============================] - 0s 526us/step - loss: 0.2527 - accuracy: 0.8795\n",
      "Epoch 74/100\n",
      "38/38 [==============================] - 0s 550us/step - loss: 0.2518 - accuracy: 0.8839\n",
      "Epoch 75/100\n",
      "38/38 [==============================] - 0s 525us/step - loss: 0.2503 - accuracy: 0.8839\n",
      "Epoch 76/100\n",
      "38/38 [==============================] - 0s 510us/step - loss: 0.2492 - accuracy: 0.8795\n",
      "Epoch 77/100\n",
      "38/38 [==============================] - 0s 499us/step - loss: 0.2488 - accuracy: 0.8839\n",
      "Epoch 78/100\n",
      "38/38 [==============================] - 0s 524us/step - loss: 0.2487 - accuracy: 0.8795\n",
      "Epoch 79/100\n",
      "38/38 [==============================] - 0s 527us/step - loss: 0.2457 - accuracy: 0.8839\n",
      "Epoch 80/100\n",
      "38/38 [==============================] - 0s 550us/step - loss: 0.2449 - accuracy: 0.8795\n",
      "Epoch 81/100\n",
      "38/38 [==============================] - 0s 558us/step - loss: 0.2439 - accuracy: 0.8884\n",
      "Epoch 82/100\n",
      "38/38 [==============================] - 0s 567us/step - loss: 0.2422 - accuracy: 0.8839\n",
      "Epoch 83/100\n",
      "38/38 [==============================] - 0s 558us/step - loss: 0.2411 - accuracy: 0.8839\n",
      "Epoch 84/100\n",
      "38/38 [==============================] - 0s 525us/step - loss: 0.2389 - accuracy: 0.8839\n",
      "Epoch 85/100\n",
      "38/38 [==============================] - 0s 472us/step - loss: 0.2387 - accuracy: 0.8884\n",
      "Epoch 86/100\n",
      "38/38 [==============================] - 0s 446us/step - loss: 0.2364 - accuracy: 0.8884\n",
      "Epoch 87/100\n",
      "38/38 [==============================] - 0s 476us/step - loss: 0.2374 - accuracy: 0.8884\n",
      "Epoch 88/100\n",
      "38/38 [==============================] - 0s 473us/step - loss: 0.2354 - accuracy: 0.8884\n",
      "Epoch 89/100\n",
      "38/38 [==============================] - 0s 420us/step - loss: 0.2346 - accuracy: 0.8929\n",
      "Epoch 90/100\n",
      "38/38 [==============================] - 0s 533us/step - loss: 0.2322 - accuracy: 0.8929\n",
      "Epoch 91/100\n",
      "38/38 [==============================] - 0s 577us/step - loss: 0.2321 - accuracy: 0.8884\n",
      "Epoch 92/100\n",
      "38/38 [==============================] - 0s 525us/step - loss: 0.2301 - accuracy: 0.8929\n",
      "Epoch 93/100\n",
      "38/38 [==============================] - 0s 499us/step - loss: 0.2296 - accuracy: 0.8929\n",
      "Epoch 94/100\n",
      "38/38 [==============================] - 0s 446us/step - loss: 0.2281 - accuracy: 0.8929\n",
      "Epoch 95/100\n",
      "38/38 [==============================] - 0s 526us/step - loss: 0.2273 - accuracy: 0.8973\n",
      "Epoch 96/100\n",
      "38/38 [==============================] - 0s 499us/step - loss: 0.2259 - accuracy: 0.8973\n",
      "Epoch 97/100\n",
      "38/38 [==============================] - 0s 498us/step - loss: 0.2252 - accuracy: 0.8973\n",
      "Epoch 98/100\n",
      "38/38 [==============================] - 0s 567us/step - loss: 0.2245 - accuracy: 0.8929\n",
      "Epoch 99/100\n",
      "38/38 [==============================] - 0s 545us/step - loss: 0.2241 - accuracy: 0.8929\n",
      "Epoch 100/100\n",
      "38/38 [==============================] - 0s 525us/step - loss: 0.2237 - accuracy: 0.8929\n"
     ]
    },
    {
     "data": {
      "text/plain": [
       "<tensorflow.python.keras.callbacks.History at 0x1f9187f7c70>"
      ]
     },
     "execution_count": 32,
     "metadata": {},
     "output_type": "execute_result"
    }
   ],
   "source": [
    "#Using the Model.fit() function, fit the model instance model to the training data X_train and training labels Y_train. \n",
    "model.fit(X_train,Y_train,epochs = 100, batch_size=6, verbose=1)"
   ]
  },
  {
   "cell_type": "markdown",
   "metadata": {},
   "source": [
    "Using the Model.evaluate() function, evaluate the trained model instance model on the test data X_test and test labels Y_test. Assign the result to a variable"
   ]
  },
  {
   "cell_type": "code",
   "execution_count": 33,
   "metadata": {},
   "outputs": [
    {
     "name": "stdout",
     "output_type": "stream",
     "text": [
      "Loss 0.579201877117157 Accuracy: 0.7733333110809326\n"
     ]
    }
   ],
   "source": [
    "loss,acc = model.evaluate(X_test,Y_test,verbose=0)\n",
    "print(\"Loss\", loss, \"Accuracy:\", acc)"
   ]
  },
  {
   "cell_type": "markdown",
   "metadata": {},
   "source": [
    "Use the Model.predict() to get the predictions for the test data X_test with the trained model instance model. Assign the result to a variable"
   ]
  },
  {
   "cell_type": "markdown",
   "metadata": {},
   "source": [
    "Use the numpy.argmax() method to select the indices of the true classes for each label encoding in y_estimate. Assign the result to a variable "
   ]
  },
  {
   "cell_type": "markdown",
   "metadata": {},
   "source": [
    "Use the numpy.argmax() method to select the indices of the true classes for each label encoding in Y_test. Assign the result to a variable "
   ]
  },
  {
   "cell_type": "code",
   "execution_count": 40,
   "metadata": {},
   "outputs": [],
   "source": [
    "y_estimate = model.predict(X_test,verbose=0)\n",
    "y_estimate = np.argmax(y_estimate,axis=1)\n",
    "y_true = np.argmax(Y_test, axis=1)"
   ]
  },
  {
   "cell_type": "code",
   "execution_count": 41,
   "metadata": {},
   "outputs": [
    {
     "name": "stdout",
     "output_type": "stream",
     "text": [
      "              precision    recall  f1-score   support\n",
      "\n",
      "           0       0.75      0.93      0.83        44\n",
      "           1       0.85      0.55      0.67        31\n",
      "\n",
      "    accuracy                           0.77        75\n",
      "   macro avg       0.80      0.74      0.75        75\n",
      "weighted avg       0.79      0.77      0.76        75\n",
      "\n"
     ]
    }
   ],
   "source": [
    "f1_score = classification_report(y_true,y_estimate)\n",
    "print(f1_score)"
   ]
  }
 ],
 "metadata": {
  "kernelspec": {
   "display_name": "Python 3",
   "language": "python",
   "name": "python3"
  },
  "language_info": {
   "codemirror_mode": {
    "name": "ipython",
    "version": 3
   },
   "file_extension": ".py",
   "mimetype": "text/x-python",
   "name": "python",
   "nbconvert_exporter": "python",
   "pygments_lexer": "ipython3",
   "version": "3.8.3"
  }
 },
 "nbformat": 4,
 "nbformat_minor": 4
}
